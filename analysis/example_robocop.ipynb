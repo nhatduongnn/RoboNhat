{
 "cells": [
  {
   "cell_type": "markdown",
   "metadata": {},
   "source": [
    "# RoboCOP tutorial"
   ]
  },
  {
   "cell_type": "markdown",
   "metadata": {},
   "source": [
    "In this tutorial, we will run RoboCOP on segments of the yeast genome. We will first run RoboCOP with expectation maximization (EM) on a few segments of the yeast genome to learn the weights of the DNA binding factors (DBFs). Once we have learned the DBF weights, we will run RoboCOP again on more segments of the genome without EM. Due to memory contraints we limit each segment to be less than 8000 bases. We also recommend that the minimum segment size be 3000 bases so that the Hidden Markov Model (HMM) can learn from a sufficiently long sequence of observations. \n",
    "\n",
    "In our [RoboCOP paper](https://doi.org/10.1093/nar/gkab553), we trained the model (using EM) on chrIV of the genome. We split chrIV into segments of length 5000 bases with an overlap of 1000 bases between two consecutive segments. After training, we ran RoboCOP without EM on the entire genome, split into segments of length 5000 with overlapping 1000 bases.\n",
    "\n",
    "Here we run RoboCOP on a MNase-seq BAM file containing only chromosomes chrI and chrII of the yeast genome. The genome version used is sacCer3. "
   ]
  },
  {
   "cell_type": "code",
   "execution_count": 1,
   "metadata": {
    "ExecuteTime": {
     "end_time": "2024-09-09T18:12:43.653041Z",
     "start_time": "2024-09-09T18:12:42.191703Z"
    }
   },
   "outputs": [],
   "source": [
    "# include path to RoboCOP directory\n",
    "import sys\n",
    "sys.path.insert(0, '../pkg/')\n",
    "from run_robocop import run_robocop_with_em, run_robocop_without_em, plot_robocop_output"
   ]
  },
  {
   "cell_type": "markdown",
   "metadata": {},
   "source": [
    "A config file is given as an input to train RoboCOP. In this tutorial we will use the provided config file ``config_example.ini``.\n",
    "\n",
    "The config file contains the following information:\n",
    "\n",
    "**fragRangeLong**: The range of fragments from paired end MNase-seq (or ATAC-seq) to be used as nucleosomal fragments (nucFrags). In this analysis, we use the range of fragments between 127 and 187. Please see [Fig 1](https://academic.oup.com/view-large/figure/287581809/gkab553fig1.jpg) in the [paper](https://doi.org/10.1093/nar/gkab553) for more details.\n",
    "\n",
    "**fragRangeShort**: The range of fragments from paired-end MNase-seq (or ATAC-seq) to be used as subnucleosomal fragments (shortFrags) to predict transcription factor binding sites. In this analysis, we use fragments of length less than or equal to 80. Please see [Fig 1](https://academic.oup.com/view-large/figure/287581809/gkab553fig1.jpg) in the [paper](https://doi.org/10.1093/nar/gkab553) for more details.\n",
    "\n",
    "**cshared**: Path to the RoboCOP shared object (``librobocop.so``) containing HMM functions. Before running RoboCOP for the first time, please generate this file by running ``bash gccCompile`` in the ``pkg`` directory. Then add the file path to the generated file, ``librobocop.so``, in the config file.\n",
    "\n",
    "**pwmFile**: Set of position weight matrices (PWMs) for transcription factors (TFs). The motifs are required to be in [MEME format](https://meme-suite.org/meme/doc/examples/sample-dna-motif.meme).\n",
    "\n",
    "**nucleosomeFile**: Set of annotated nucleosome dyads in [BED format](https://genome.ucsc.edu/FAQ/FAQformat.html#format1). The nucFrags signal of 147 bases centered on the annotated dyads are used to fit a negative binomial distribution for prediction nucleosome positions in the genome. These annotated sites are also used to compute a dinucleotide PWM for nucleosomal DNA. In this tutorial, we will use the annotated +1 and -1 nucleosome dyads from [Chereji et al., 2018](https://doi.org/10.1186/s13059-018-1398-0).\n",
    "\n",
    "**tfFile**: Set of annotated transcription factor binding sites in [BED format](https://genome.ucsc.edu/FAQ/FAQformat.html#format1). The shortFrags signal within these annotated sites are used to fit a negative binomial distribution for predicting TF binding sites. In this tutorial, we will be using the annotated binding sites of Abf1 and Reb1 from [MacIsaac et al., 2006](https://doi.org/10.1186/1471-2105-7-113).\n",
    "\n",
    "**nucFile**: Nucleotide sequence of the genome. Here we will use the sacCer3 genome.\n",
    "\n",
    "**bamFile**: MNase-seq (or ATAC-seq) paired-end reads in [BAM file format](https://samtools.github.io/hts-specs/SAMv1.pdf). In this tutorial, we will use a BAM file containing chromosomes chrI and chrII.\n",
    "\n",
    "**chrSizesFile**: File with chromosome sizes.\n",
    "\n",
    "**gtfFile**: Gene body and transcript information in [GTF format](https://genome.ucsc.edu/FAQ/FAQformat.html#format4). This input is optional. It is required only during plotting. When included, the plots show the gene information. \n",
    "\n",
    "**tech**: Can be MNase or ATAC depending on the experimental protocol used to generate the input BAM file. Here we set it as MNase because the input BAM file is MNase-seq."
   ]
  },
  {
   "cell_type": "code",
   "execution_count": 2,
   "metadata": {
    "ExecuteTime": {
     "end_time": "2024-09-09T18:12:43.659320Z",
     "start_time": "2024-09-09T18:12:43.654547Z"
    }
   },
   "outputs": [],
   "source": [
    "configfile = './config_example.ini'\n"
   ]
  },
  {
   "cell_type": "markdown",
   "metadata": {},
   "source": [
    "We will use separate set of segments for running RoboCOP with EM (training) and without EM. We generally train on fewer segments to learn the DBF weights. After learning the weights we performing posterior decoding by running RoboCOP without EM on all our segments of interest. The coordinate files for the two RoboCOP runs in tutorial are as follows."
   ]
  },
  {
   "cell_type": "code",
   "execution_count": 3,
   "metadata": {
    "ExecuteTime": {
     "end_time": "2024-09-09T18:12:43.664275Z",
     "start_time": "2024-09-09T18:12:43.660382Z"
    }
   },
   "outputs": [],
   "source": [
    "coord_file_train = './coord_train.tsv'\n",
    "coord_file_all = './coord_all.tsv'"
   ]
  },
  {
   "cell_type": "code",
   "execution_count": 4,
   "metadata": {
    "ExecuteTime": {
     "end_time": "2024-09-09T18:12:54.266607Z",
     "start_time": "2024-09-09T18:12:54.140923Z"
    }
   },
   "outputs": [
    {
     "name": "stdout",
     "output_type": "stream",
     "text": [
      "chr\tstart\tend\r\n",
      "chrI\t24001\t29000\r\n",
      "chrI\t28001\t33000\r\n",
      "chrI\t60001\t65000\r\n",
      "chrI\t64001\t69000\r\n",
      "chrI\t68001\t73000\r\n"
     ]
    }
   ],
   "source": [
    "!cat \"$coord_file_train\""
   ]
  },
  {
   "cell_type": "code",
   "execution_count": 5,
   "metadata": {
    "ExecuteTime": {
     "end_time": "2024-09-09T18:12:55.224965Z",
     "start_time": "2024-09-09T18:12:55.094024Z"
    }
   },
   "outputs": [
    {
     "name": "stdout",
     "output_type": "stream",
     "text": [
      "chr\tstart\tend\r\n",
      "chrI\t24001\t29000\r\n",
      "chrI\t28001\t33000\r\n",
      "chrI\t60001\t65000\r\n",
      "chrI\t64001\t69000\r\n",
      "chrI\t68001\t73000\r\n",
      "chrII\t72001\t77000\r\n",
      "chrII\t76001\t81000\r\n",
      "chrII\t180001\t185000\r\n",
      "chrII\t184001\t189000\r\n",
      "chrII\t380001\t385000\r\n"
     ]
    }
   ],
   "source": [
    "!cat \"$coord_file_all\""
   ]
  },
  {
   "cell_type": "code",
   "execution_count": 6,
   "metadata": {
    "ExecuteTime": {
     "end_time": "2024-09-09T18:12:55.650488Z",
     "start_time": "2024-09-09T18:12:55.645859Z"
    }
   },
   "outputs": [],
   "source": [
    "# Output directories for the RoboCOP runs\n",
    "outdir_train = './robocop_train/'\n",
    "outdir_all = './robocop_all/'\n",
    "outdir_all_subset = './robocop_all_subset/'"
   ]
  },
  {
   "cell_type": "markdown",
   "metadata": {},
   "source": [
    "### Run RoboCOP with EM"
   ]
  },
  {
   "cell_type": "markdown",
   "metadata": {},
   "source": [
    "We first need to run RoboCOP with EM on a few set of genome segments to learn the DBF weights. Note that the same coordinate file can be used to run RoboCOP with and without EM. If the number of segments in the coordinate file is more than 500 then for the EM run, RoboCOP randomly chooses 500 segments to train the model on. In order to run RoboCOP with EM, we need to provide a coordinate file, config file and an output directory."
   ]
  },
  {
   "cell_type": "code",
   "execution_count": 7,
   "metadata": {
    "ExecuteTime": {
     "end_time": "2024-09-09T18:12:59.435809Z",
     "start_time": "2024-09-09T18:12:58.729857Z"
    }
   },
   "outputs": [
    {
     "name": "stdout",
     "output_type": "stream",
     "text": [
      "RoboCOP: model training ...\n",
      "Coordinates: ./coord_train.tsv\n",
      "Config file: ./config_example.ini\n",
      "Output dir: ./robocop_train/\n"
     ]
    },
    {
     "ename": "BlockingIOError",
     "evalue": "[Errno 11] Unable to synchronously create file (unable to lock file, errno = 11, error message = 'Resource temporarily unavailable')",
     "output_type": "error",
     "traceback": [
      "\u001b[0;31m---------------------------------------------------------------------------\u001b[0m",
      "\u001b[0;31mBlockingIOError\u001b[0m                           Traceback (most recent call last)",
      "Cell \u001b[0;32mIn[7], line 1\u001b[0m\n\u001b[0;32m----> 1\u001b[0m \u001b[43mrun_robocop_with_em\u001b[49m\u001b[43m(\u001b[49m\u001b[43mcoord_file_train\u001b[49m\u001b[43m,\u001b[49m\u001b[43m \u001b[49m\u001b[43mconfigfile\u001b[49m\u001b[43m,\u001b[49m\u001b[43m \u001b[49m\u001b[43moutdir_train\u001b[49m\u001b[43m)\u001b[49m\n",
      "File \u001b[0;32m/tmp/pycharm_project_227/programs/RoboCOP/analysis/../pkg/run_robocop.py:49\u001b[0m, in \u001b[0;36mrun_robocop_with_em\u001b[0;34m(coordFile, configFile, outDir)\u001b[0m\n\u001b[1;32m     46\u001b[0m \u001b[38;5;28;01melse\u001b[39;00m: bamFile \u001b[38;5;241m=\u001b[39m config\u001b[38;5;241m.\u001b[39mget(\u001b[38;5;124m\"\u001b[39m\u001b[38;5;124mmain\u001b[39m\u001b[38;5;124m\"\u001b[39m, \u001b[38;5;124m\"\u001b[39m\u001b[38;5;124mbamFile\u001b[39m\u001b[38;5;124m\"\u001b[39m)\n\u001b[1;32m     48\u001b[0m info_file_name \u001b[38;5;241m=\u001b[39m tmpDir \u001b[38;5;241m+\u001b[39m \u001b[38;5;124m'\u001b[39m\u001b[38;5;124minfo.h5\u001b[39m\u001b[38;5;124m'\u001b[39m \n\u001b[0;32m---> 49\u001b[0m \u001b[43mrunROBOCOP_EM\u001b[49m\u001b[43m(\u001b[49m\u001b[43mcoordFile\u001b[49m\u001b[43m,\u001b[49m\u001b[43m \u001b[49m\u001b[43mconfig\u001b[49m\u001b[43m,\u001b[49m\u001b[43m \u001b[49m\u001b[43moutDir\u001b[49m\u001b[43m,\u001b[49m\u001b[43m \u001b[49m\u001b[43mtmpDir\u001b[49m\u001b[43m,\u001b[49m\u001b[43m \u001b[49m\u001b[43minfo_file_name\u001b[49m\u001b[43m,\u001b[49m\u001b[43m \u001b[49m\u001b[43mbamFile\u001b[49m\u001b[43m)\u001b[49m\n",
      "File \u001b[0;32m/tmp/pycharm_project_227/programs/RoboCOP/analysis/../pkg/robocop_em.py:37\u001b[0m, in \u001b[0;36mrunROBOCOP_EM\u001b[0;34m(coordFile, config, outDir, tmpDir, info_file_name, mnaseFile, dnaseFiles)\u001b[0m\n\u001b[1;32m     35\u001b[0m \u001b[38;5;28;01mdef\u001b[39;00m \u001b[38;5;21mrunROBOCOP_EM\u001b[39m(coordFile, config, outDir, tmpDir, info_file_name, mnaseFile, dnaseFiles \u001b[38;5;241m=\u001b[39m \u001b[38;5;124m\"\u001b[39m\u001b[38;5;124m\"\u001b[39m):\n\u001b[0;32m---> 37\u001b[0m     info_file \u001b[38;5;241m=\u001b[39m \u001b[43mh5py\u001b[49m\u001b[38;5;241;43m.\u001b[39;49m\u001b[43mFile\u001b[49m\u001b[43m(\u001b[49m\u001b[43minfo_file_name\u001b[49m\u001b[43m,\u001b[49m\u001b[43m \u001b[49m\u001b[43mmode\u001b[49m\u001b[43m \u001b[49m\u001b[38;5;241;43m=\u001b[39;49m\u001b[43m \u001b[49m\u001b[38;5;124;43m'\u001b[39;49m\u001b[38;5;124;43mw\u001b[39;49m\u001b[38;5;124;43m'\u001b[39;49m\u001b[43m)\u001b[49m \n\u001b[1;32m     38\u001b[0m     fragRangeLong \u001b[38;5;241m=\u001b[39m \u001b[38;5;28mtuple\u001b[39m([\u001b[38;5;28mint\u001b[39m(x) \u001b[38;5;28;01mfor\u001b[39;00m x \u001b[38;5;129;01min\u001b[39;00m re\u001b[38;5;241m.\u001b[39mfindall(\u001b[38;5;124mr\u001b[39m\u001b[38;5;124m'\u001b[39m\u001b[38;5;124m\\\u001b[39m\u001b[38;5;124md+\u001b[39m\u001b[38;5;124m'\u001b[39m, config\u001b[38;5;241m.\u001b[39mget(\u001b[38;5;124m\"\u001b[39m\u001b[38;5;124mmain\u001b[39m\u001b[38;5;124m\"\u001b[39m, \u001b[38;5;124m\"\u001b[39m\u001b[38;5;124mfragRangeLong\u001b[39m\u001b[38;5;124m\"\u001b[39m))])\n\u001b[1;32m     39\u001b[0m     fragRangeShort \u001b[38;5;241m=\u001b[39m \u001b[38;5;28mtuple\u001b[39m([\u001b[38;5;28mint\u001b[39m(x) \u001b[38;5;28;01mfor\u001b[39;00m x \u001b[38;5;129;01min\u001b[39;00m re\u001b[38;5;241m.\u001b[39mfindall(\u001b[38;5;124mr\u001b[39m\u001b[38;5;124m'\u001b[39m\u001b[38;5;124m\\\u001b[39m\u001b[38;5;124md+\u001b[39m\u001b[38;5;124m'\u001b[39m, config\u001b[38;5;241m.\u001b[39mget(\u001b[38;5;124m\"\u001b[39m\u001b[38;5;124mmain\u001b[39m\u001b[38;5;124m\"\u001b[39m, \u001b[38;5;124m\"\u001b[39m\u001b[38;5;124mfragRangeShort\u001b[39m\u001b[38;5;124m\"\u001b[39m))])\n",
      "File \u001b[0;32m~/miniconda3/envs/robocop-2024/lib/python3.10/site-packages/h5py/_hl/files.py:567\u001b[0m, in \u001b[0;36mFile.__init__\u001b[0;34m(self, name, mode, driver, libver, userblock_size, swmr, rdcc_nslots, rdcc_nbytes, rdcc_w0, track_order, fs_strategy, fs_persist, fs_threshold, fs_page_size, page_buf_size, min_meta_keep, min_raw_keep, locking, alignment_threshold, alignment_interval, meta_block_size, **kwds)\u001b[0m\n\u001b[1;32m    558\u001b[0m     fapl \u001b[38;5;241m=\u001b[39m make_fapl(driver, libver, rdcc_nslots, rdcc_nbytes, rdcc_w0,\n\u001b[1;32m    559\u001b[0m                      locking, page_buf_size, min_meta_keep, min_raw_keep,\n\u001b[1;32m    560\u001b[0m                      alignment_threshold\u001b[38;5;241m=\u001b[39malignment_threshold,\n\u001b[1;32m    561\u001b[0m                      alignment_interval\u001b[38;5;241m=\u001b[39malignment_interval,\n\u001b[1;32m    562\u001b[0m                      meta_block_size\u001b[38;5;241m=\u001b[39mmeta_block_size,\n\u001b[1;32m    563\u001b[0m                      \u001b[38;5;241m*\u001b[39m\u001b[38;5;241m*\u001b[39mkwds)\n\u001b[1;32m    564\u001b[0m     fcpl \u001b[38;5;241m=\u001b[39m make_fcpl(track_order\u001b[38;5;241m=\u001b[39mtrack_order, fs_strategy\u001b[38;5;241m=\u001b[39mfs_strategy,\n\u001b[1;32m    565\u001b[0m                      fs_persist\u001b[38;5;241m=\u001b[39mfs_persist, fs_threshold\u001b[38;5;241m=\u001b[39mfs_threshold,\n\u001b[1;32m    566\u001b[0m                      fs_page_size\u001b[38;5;241m=\u001b[39mfs_page_size)\n\u001b[0;32m--> 567\u001b[0m     fid \u001b[38;5;241m=\u001b[39m \u001b[43mmake_fid\u001b[49m\u001b[43m(\u001b[49m\u001b[43mname\u001b[49m\u001b[43m,\u001b[49m\u001b[43m \u001b[49m\u001b[43mmode\u001b[49m\u001b[43m,\u001b[49m\u001b[43m \u001b[49m\u001b[43muserblock_size\u001b[49m\u001b[43m,\u001b[49m\u001b[43m \u001b[49m\u001b[43mfapl\u001b[49m\u001b[43m,\u001b[49m\u001b[43m \u001b[49m\u001b[43mfcpl\u001b[49m\u001b[43m,\u001b[49m\u001b[43m \u001b[49m\u001b[43mswmr\u001b[49m\u001b[38;5;241;43m=\u001b[39;49m\u001b[43mswmr\u001b[49m\u001b[43m)\u001b[49m\n\u001b[1;32m    569\u001b[0m \u001b[38;5;28;01mif\u001b[39;00m \u001b[38;5;28misinstance\u001b[39m(libver, \u001b[38;5;28mtuple\u001b[39m):\n\u001b[1;32m    570\u001b[0m     \u001b[38;5;28mself\u001b[39m\u001b[38;5;241m.\u001b[39m_libver \u001b[38;5;241m=\u001b[39m libver\n",
      "File \u001b[0;32m~/miniconda3/envs/robocop-2024/lib/python3.10/site-packages/h5py/_hl/files.py:237\u001b[0m, in \u001b[0;36mmake_fid\u001b[0;34m(name, mode, userblock_size, fapl, fcpl, swmr)\u001b[0m\n\u001b[1;32m    235\u001b[0m     fid \u001b[38;5;241m=\u001b[39m h5f\u001b[38;5;241m.\u001b[39mcreate(name, h5f\u001b[38;5;241m.\u001b[39mACC_EXCL, fapl\u001b[38;5;241m=\u001b[39mfapl, fcpl\u001b[38;5;241m=\u001b[39mfcpl)\n\u001b[1;32m    236\u001b[0m \u001b[38;5;28;01melif\u001b[39;00m mode \u001b[38;5;241m==\u001b[39m \u001b[38;5;124m'\u001b[39m\u001b[38;5;124mw\u001b[39m\u001b[38;5;124m'\u001b[39m:\n\u001b[0;32m--> 237\u001b[0m     fid \u001b[38;5;241m=\u001b[39m \u001b[43mh5f\u001b[49m\u001b[38;5;241;43m.\u001b[39;49m\u001b[43mcreate\u001b[49m\u001b[43m(\u001b[49m\u001b[43mname\u001b[49m\u001b[43m,\u001b[49m\u001b[43m \u001b[49m\u001b[43mh5f\u001b[49m\u001b[38;5;241;43m.\u001b[39;49m\u001b[43mACC_TRUNC\u001b[49m\u001b[43m,\u001b[49m\u001b[43m \u001b[49m\u001b[43mfapl\u001b[49m\u001b[38;5;241;43m=\u001b[39;49m\u001b[43mfapl\u001b[49m\u001b[43m,\u001b[49m\u001b[43m \u001b[49m\u001b[43mfcpl\u001b[49m\u001b[38;5;241;43m=\u001b[39;49m\u001b[43mfcpl\u001b[49m\u001b[43m)\u001b[49m\n\u001b[1;32m    238\u001b[0m \u001b[38;5;28;01melif\u001b[39;00m mode \u001b[38;5;241m==\u001b[39m \u001b[38;5;124m'\u001b[39m\u001b[38;5;124ma\u001b[39m\u001b[38;5;124m'\u001b[39m:\n\u001b[1;32m    239\u001b[0m     \u001b[38;5;66;03m# Open in append mode (read/write).\u001b[39;00m\n\u001b[1;32m    240\u001b[0m     \u001b[38;5;66;03m# If that fails, create a new file only if it won't clobber an\u001b[39;00m\n\u001b[1;32m    241\u001b[0m     \u001b[38;5;66;03m# existing one (ACC_EXCL)\u001b[39;00m\n\u001b[1;32m    242\u001b[0m     \u001b[38;5;28;01mtry\u001b[39;00m:\n",
      "File \u001b[0;32mh5py/_objects.pyx:54\u001b[0m, in \u001b[0;36mh5py._objects.with_phil.wrapper\u001b[0;34m()\u001b[0m\n",
      "File \u001b[0;32mh5py/_objects.pyx:55\u001b[0m, in \u001b[0;36mh5py._objects.with_phil.wrapper\u001b[0;34m()\u001b[0m\n",
      "File \u001b[0;32mh5py/h5f.pyx:126\u001b[0m, in \u001b[0;36mh5py.h5f.create\u001b[0;34m()\u001b[0m\n",
      "\u001b[0;31mBlockingIOError\u001b[0m: [Errno 11] Unable to synchronously create file (unable to lock file, errno = 11, error message = 'Resource temporarily unavailable')"
     ]
    }
   ],
   "source": [
    "run_robocop_with_em(coord_file_train, configfile, outdir_train)"
   ]
  },
  {
   "cell_type": "markdown",
   "metadata": {},
   "source": [
    "### Run RoboCOP without EM"
   ]
  },
  {
   "cell_type": "markdown",
   "metadata": {},
   "source": [
    "##### Here we run RoboCOP without EM on all segments."
   ]
  },
  {
   "cell_type": "code",
   "execution_count": null,
   "metadata": {
    "ExecuteTime": {
     "end_time": "2024-09-09T18:08:38.393533Z",
     "start_time": "2024-09-09T18:08:38.393288Z"
    }
   },
   "outputs": [],
   "source": [
    "run_robocop_without_em(coord_file_all, outdir_train, outdir_all)"
   ]
  },
  {
   "cell_type": "markdown",
   "metadata": {},
   "source": [
    "##### Run RoboCOP without EM on a subset of segments for parallelization\n",
    "\n",
    "We can also run RoboCOP without EM on a subset of segments. \n",
    "\n",
    "For example, here we split the set of coordinates into a ``total`` of 3 groups and run RoboCOP without EM on every third segment starting at ``idx = 2``. In our file, ``coord_file_all`` we have 10 segments with indices ``[0 .. 9]``. So, with the segmenting approach, we will perform posterior decoding on segments with indices ``[2, 5, 8]``.\n",
    "\n",
    "We can use this segmenting approach to run RoboCOP without EM in parallel on HPC cluster. Therefore, in this case, in order to run RoboCOP on all segments, we would need to run RoboCOP without EM for ``idx`` values 0, 1, and 2 separately."
   ]
  },
  {
   "cell_type": "code",
   "execution_count": null,
   "metadata": {},
   "outputs": [],
   "source": [
    "run_robocop_without_em(coord_file_all, outdir_train, outdir_all_subset, idx = 0, total = 3)\n",
    "run_robocop_without_em(coord_file_all, outdir_train, outdir_all_subset, idx = 1, total = 3)\n",
    "run_robocop_without_em(coord_file_all, outdir_train, outdir_all_subset, idx = 2, total = 3)"
   ]
  },
  {
   "cell_type": "markdown",
   "metadata": {},
   "source": [
    "### Plot output\n",
    "\n",
    "The output can be plotted using the plot_robocop_output() function. You need to provide the RoboCOP no EM directory name, chromosome, start and stop. Note that the genome segment needs to lie within the set of coordinates that RoboCOP without EM was run on.\n",
    "\n",
    "Here the output is saved in the provided RoboCOP directory."
   ]
  },
  {
   "cell_type": "code",
   "execution_count": null,
   "metadata": {},
   "outputs": [],
   "source": [
    "# outdir_all is run of RoboCOP without EM on all segments without splitting\n",
    "plot_robocop_output(outdir_all, \"chrI\", 61500, 64500)"
   ]
  },
  {
   "cell_type": "markdown",
   "metadata": {},
   "source": [
    "RoboCOP output can be plotted using the same function for both segmented and non-segmented RoboCOP runs."
   ]
  },
  {
   "cell_type": "code",
   "execution_count": null,
   "metadata": {},
   "outputs": [],
   "source": [
    "# outdir_all_subset is run of RoboCOP without EM by splitting up the number of segments into groups\n",
    "# to run in parallel\n",
    "plot_robocop_output(outdir_all_subset, \"chrII\", 381000, 384000)"
   ]
  },
  {
   "cell_type": "markdown",
   "metadata": {},
   "source": [
    "Alternatively, by setting ``save=False``, you can display the output in the notebook without saving it in the RoboCOP directory."
   ]
  },
  {
   "cell_type": "code",
   "execution_count": null,
   "metadata": {},
   "outputs": [],
   "source": [
    "plot_robocop_output(outdir_all, \"chrI\", 61500, 64500, save = False)"
   ]
  },
  {
   "cell_type": "code",
   "execution_count": 8,
   "metadata": {
    "ExecuteTime": {
     "end_time": "2024-09-09T18:09:41.759719Z",
     "start_time": "2024-09-09T18:09:41.756643Z"
    }
   },
   "outputs": [
    {
     "name": "stdout",
     "output_type": "stream",
     "text": [
      "bob\n"
     ]
    }
   ],
   "source": [
    "print('bob')\n"
   ]
  },
  {
   "cell_type": "code",
   "execution_count": null,
   "metadata": {},
   "outputs": [],
   "source": []
  }
 ],
 "metadata": {
  "kernelspec": {
   "display_name": "Python 3",
   "language": "python",
   "name": "python3"
  },
  "language_info": {
   "codemirror_mode": {
    "name": "ipython",
    "version": 3
   },
   "file_extension": ".py",
   "mimetype": "text/x-python",
   "name": "python",
   "nbconvert_exporter": "python",
   "pygments_lexer": "ipython3",
   "version": "3.6.13"
  }
 },
 "nbformat": 4,
 "nbformat_minor": 4
}
